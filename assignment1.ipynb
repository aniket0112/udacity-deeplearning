{
 "cells": [
  {
   "cell_type": "code",
   "execution_count": 1,
   "metadata": {
    "collapsed": true
   },
   "outputs": [],
   "source": [
    "# These are all the modules we'll be using later. Make sure you can import them\n",
    "# before proceeding further.\n",
    "from __future__ import print_function\n",
    "import imageio\n",
    "import matplotlib.pyplot as plt\n",
    "import numpy as np\n",
    "import os\n",
    "import sys\n",
    "import tarfile\n",
    "from IPython.display import display, Image\n",
    "from sklearn.linear_model import LogisticRegression\n",
    "from six.moves.urllib.request import urlretrieve\n",
    "from six.moves import cPickle as pickle\n",
    "\n",
    "# Config the matplotlib backend as plotting inline in IPython\n",
    "%matplotlib inline"
   ]
  },
  {
   "cell_type": "code",
   "execution_count": 2,
   "metadata": {
    "collapsed": true
   },
   "outputs": [],
   "source": [
    "with open('./notMNIST.pickle','rb') as f:\n",
    "    try:\n",
    "        dataset = pickle.load(f)\n",
    "    except Exception as e:\n",
    "      print('Unable to process data from', f, ':', e)\n",
    "      raise "
   ]
  },
  {
   "cell_type": "code",
   "execution_count": 48,
   "metadata": {},
   "outputs": [
    {
     "name": "stdout",
     "output_type": "stream",
     "text": [
      "Overlapping samples between training and valid data 998\n",
      "Overlapping samples between training and test data 1107\n",
      "Overlapping samples between test and valid data 74\n"
     ]
    }
   ],
   "source": [
    "def compare(data1,data2):\n",
    "    data1.flags.writeable = False\n",
    "    data2.flags.writeable = False\n",
    "    data1set = set(hash(bytes(i[1])) for i in enumerate(data1))\n",
    "    data2set = set(hash(bytes(i[1])) for i in enumerate(data2))\n",
    "    return len(data1set.intersection(data2set))\n",
    "\n",
    "train_data = dataset[\"train_dataset\"]\n",
    "valid_data = dataset[\"valid_dataset\"]\n",
    "test_data = dataset[\"test_dataset\"]\n",
    "\n",
    "print('Overlapping samples between training and valid data',compare(train_data,valid_data))\n",
    "print('Overlapping samples between training and test data',compare(train_data,test_data))\n",
    "print('Overlapping samples between test and valid data',compare(test_data,valid_data))"
   ]
  },
  {
   "cell_type": "code",
   "execution_count": 53,
   "metadata": {},
   "outputs": [
    {
     "data": {
      "text/plain": [
       "LogisticRegression(C=1.0, class_weight=None, dual=False, fit_intercept=True,\n",
       "          intercept_scaling=1, max_iter=100, multi_class='ovr', n_jobs=1,\n",
       "          penalty='l2', random_state=None, solver='liblinear', tol=0.0001,\n",
       "          verbose=0, warm_start=False)"
      ]
     },
     "execution_count": 53,
     "metadata": {},
     "output_type": "execute_result"
    }
   ],
   "source": [
    "def data_reshape(data):\n",
    "    samples = data.shape[0]\n",
    "    h = data.shape[1]\n",
    "    w = data.shape[2]\n",
    "    return data.reshape([samples,h*w])\n",
    "\n",
    "train_data = dataset[\"train_dataset\"]\n",
    "valid_data = dataset[\"valid_dataset\"]\n",
    "test_data = dataset[\"test_dataset\"]\n",
    "train_labels = dataset[\"train_labels\"]\n",
    "valid_labels = dataset[\"valid_labels\"]\n",
    "test_labels = dataset[\"test_labels\"]\n",
    "\n",
    "train_data = data_reshape(train_data)\n",
    "valid_data = data_reshape(valid_data)\n",
    "test_data = data_reshape(test_data)\n",
    "\n",
    "clf1 = LogisticRegression()\n",
    "clf1.fit(train_data[1:50],train_labels[1:50])"
   ]
  },
  {
   "cell_type": "code",
   "execution_count": 54,
   "metadata": {},
   "outputs": [
    {
     "data": {
      "text/plain": [
       "LogisticRegression(C=1.0, class_weight=None, dual=False, fit_intercept=True,\n",
       "          intercept_scaling=1, max_iter=100, multi_class='ovr', n_jobs=1,\n",
       "          penalty='l2', random_state=None, solver='liblinear', tol=0.0001,\n",
       "          verbose=0, warm_start=False)"
      ]
     },
     "execution_count": 54,
     "metadata": {},
     "output_type": "execute_result"
    }
   ],
   "source": [
    "clf2 = LogisticRegression()\n",
    "clf2.fit(train_data[1:100],train_labels[1:100])"
   ]
  },
  {
   "cell_type": "code",
   "execution_count": 55,
   "metadata": {},
   "outputs": [
    {
     "data": {
      "text/plain": [
       "LogisticRegression(C=1.0, class_weight=None, dual=False, fit_intercept=True,\n",
       "          intercept_scaling=1, max_iter=100, multi_class='ovr', n_jobs=1,\n",
       "          penalty='l2', random_state=None, solver='liblinear', tol=0.0001,\n",
       "          verbose=0, warm_start=False)"
      ]
     },
     "execution_count": 55,
     "metadata": {},
     "output_type": "execute_result"
    }
   ],
   "source": [
    "clf3 = LogisticRegression()\n",
    "clf3.fit(train_data[1:1000],train_labels[1:1000])"
   ]
  },
  {
   "cell_type": "code",
   "execution_count": null,
   "metadata": {},
   "outputs": [],
   "source": [
    "clf4 = LogisticRegression()\n",
    "clf4.fit(train_data,train_labels)"
   ]
  },
  {
   "cell_type": "code",
   "execution_count": 56,
   "metadata": {},
   "outputs": [
    {
     "name": "stdout",
     "output_type": "stream",
     "text": [
      "0.625250501002 0.719438877756 0.849699398798\n"
     ]
    }
   ],
   "source": [
    "print(clf1.score(test_data[1:500],test_labels[1:500]),clf2.score(test_data[1:500],test_labels[1:500]),clf3.score(test_data[1:500],test_labels[1:500]),clf3.score(test_data[1:500],test_labels[1:500]))"
   ]
  },
  {
   "cell_type": "code",
   "execution_count": null,
   "metadata": {
    "collapsed": true
   },
   "outputs": [],
   "source": []
  }
 ],
 "metadata": {
  "kernelspec": {
   "display_name": "Python 3",
   "language": "python",
   "name": "python3"
  },
  "language_info": {
   "codemirror_mode": {
    "name": "ipython",
    "version": 3
   },
   "file_extension": ".py",
   "mimetype": "text/x-python",
   "name": "python",
   "nbconvert_exporter": "python",
   "pygments_lexer": "ipython3",
   "version": "3.6.3"
  }
 },
 "nbformat": 4,
 "nbformat_minor": 2
}
