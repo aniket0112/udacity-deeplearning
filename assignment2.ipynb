{
 "cells": [
  {
   "cell_type": "code",
   "execution_count": 1,
   "metadata": {},
   "outputs": [
    {
     "name": "stderr",
     "output_type": "stream",
     "text": [
      "/home/aniket/anaconda3/lib/python3.6/site-packages/h5py/__init__.py:34: FutureWarning: Conversion of the second argument of issubdtype from `float` to `np.floating` is deprecated. In future, it will be treated as `np.float64 == np.dtype(float).type`.\n",
      "  from ._conv import register_converters as _register_converters\n"
     ]
    }
   ],
   "source": [
    "from __future__ import print_function\n",
    "import numpy as np\n",
    "import tensorflow as tf\n",
    "from six.moves import cPickle as pickle\n",
    "from six.moves import range"
   ]
  },
  {
   "cell_type": "code",
   "execution_count": 2,
   "metadata": {},
   "outputs": [
    {
     "name": "stdout",
     "output_type": "stream",
     "text": [
      "Training set (200000, 28, 28) (200000,)\n",
      "Validation set (10000, 28, 28) (10000,)\n",
      "Test set (10000, 28, 28) (10000,)\n"
     ]
    }
   ],
   "source": [
    "pickle_file = 'notMNIST.pickle'\n",
    "\n",
    "with open(pickle_file, 'rb') as f:\n",
    "  save = pickle.load(f)\n",
    "  train_dataset = save['train_dataset']\n",
    "  train_labels = save['train_labels']\n",
    "  valid_dataset = save['valid_dataset']\n",
    "  valid_labels = save['valid_labels']\n",
    "  test_dataset = save['test_dataset']\n",
    "  test_labels = save['test_labels']\n",
    "  del save  # hint to help gc free up memory\n",
    "  print('Training set', train_dataset.shape, train_labels.shape)\n",
    "  print('Validation set', valid_dataset.shape, valid_labels.shape)\n",
    "  print('Test set', test_dataset.shape, test_labels.shape)"
   ]
  },
  {
   "cell_type": "code",
   "execution_count": 3,
   "metadata": {},
   "outputs": [
    {
     "name": "stdout",
     "output_type": "stream",
     "text": [
      "Training set (200000, 784) (200000, 10)\n",
      "Validation set (10000, 784) (10000, 10)\n",
      "Test set (10000, 784) (10000, 10)\n"
     ]
    }
   ],
   "source": [
    "image_size = 28\n",
    "num_labels = 10\n",
    "\n",
    "def reformat(dataset, labels):\n",
    "  dataset = dataset.reshape((-1, image_size * image_size)).astype(np.float32)\n",
    "  # Map 0 to [1.0, 0.0, 0.0 ...], 1 to [0.0, 1.0, 0.0 ...]\n",
    "  labels = (np.arange(num_labels) == labels[:,None]).astype(np.float32)\n",
    "  return dataset, labels\n",
    "train_dataset, train_labels = reformat(train_dataset, train_labels)\n",
    "valid_dataset, valid_labels = reformat(valid_dataset, valid_labels)\n",
    "test_dataset, test_labels = reformat(test_dataset, test_labels)\n",
    "print('Training set', train_dataset.shape, train_labels.shape)\n",
    "print('Validation set', valid_dataset.shape, valid_labels.shape)\n",
    "print('Test set', test_dataset.shape, test_labels.shape)"
   ]
  },
  {
   "cell_type": "code",
   "execution_count": 5,
   "metadata": {},
   "outputs": [
    {
     "name": "stdout",
     "output_type": "stream",
     "text": [
      "WARNING:tensorflow:From <ipython-input-5-c546d17e3915>:11: softmax_cross_entropy_with_logits (from tensorflow.python.ops.nn_ops) is deprecated and will be removed in a future version.\n",
      "Instructions for updating:\n",
      "\n",
      "Future major versions of TensorFlow will allow gradients to flow\n",
      "into the labels input on backprop by default.\n",
      "\n",
      "See tf.nn.softmax_cross_entropy_with_logits_v2.\n",
      "\n"
     ]
    }
   ],
   "source": [
    "train_subset = 100000\n",
    "graph = tf.Graph()\n",
    "with graph.as_default():\n",
    "    tf_train_dataset = tf.constant(train_dataset[:train_subset, :])\n",
    "    tf_train_labels = tf.constant(train_labels[:train_subset])\n",
    "    tf_valid_dataset = tf.constant(valid_dataset)\n",
    "    tf_test_dataset = tf.constant(test_dataset)\n",
    "    weights = tf.Variable(tf.truncated_normal([image_size * image_size, num_labels]))\n",
    "    biases = tf.Variable(tf.zeros([num_labels]))\n",
    "    logits = tf.matmul(tf_train_dataset, weights) + biases\n",
    "    loss = tf.reduce_mean(tf.nn.softmax_cross_entropy_with_logits(labels=tf_train_labels, logits=logits))\n",
    "    optimizer = tf.train.GradientDescentOptimizer(0.5).minimize(loss)\n",
    "    train_prediction = tf.nn.softmax(logits)\n",
    "    valid_prediction = tf.nn.softmax(tf.matmul(tf_valid_dataset, weights) + biases)\n",
    "    test_prediction = tf.nn.softmax(tf.matmul(tf_test_dataset, weights) + biases)"
   ]
  },
  {
   "cell_type": "code",
   "execution_count": 6,
   "metadata": {},
   "outputs": [
    {
     "name": "stdout",
     "output_type": "stream",
     "text": [
      "Initialized\n",
      "Loss at step 0: 14.845035\n",
      "Training accuracy: 12.5%\n",
      "Validation accuracy: 15.1%\n",
      "Loss at step 100: 2.392921\n",
      "Training accuracy: 71.3%\n",
      "Validation accuracy: 71.5%\n",
      "Loss at step 200: 2.002017\n",
      "Training accuracy: 73.9%\n",
      "Validation accuracy: 73.9%\n",
      "Loss at step 300: 1.789577\n",
      "Training accuracy: 74.9%\n",
      "Validation accuracy: 74.8%\n",
      "Loss at step 400: 1.643127\n",
      "Training accuracy: 75.5%\n",
      "Validation accuracy: 75.5%\n",
      "Loss at step 500: 1.532835\n",
      "Training accuracy: 76.0%\n",
      "Validation accuracy: 76.1%\n",
      "Loss at step 600: 1.445376\n",
      "Training accuracy: 76.3%\n",
      "Validation accuracy: 76.4%\n",
      "Loss at step 700: 1.373679\n",
      "Training accuracy: 76.6%\n",
      "Validation accuracy: 76.7%\n",
      "Loss at step 800: 1.313543\n",
      "Training accuracy: 76.9%\n",
      "Validation accuracy: 77.1%\n",
      "Test accuracy: 83.5%\n"
     ]
    }
   ],
   "source": [
    "num_steps = 801\n",
    "\n",
    "def accuracy(predictions, labels):\n",
    "  return (100.0 * np.sum(np.argmax(predictions, 1) == np.argmax(labels, 1))\n",
    "          / predictions.shape[0])\n",
    "\n",
    "with tf.Session(graph=graph) as session:\n",
    "    tf.global_variables_initializer().run()\n",
    "    print('Initialized')\n",
    "    for step in range(num_steps):\n",
    "        _, l, predictions = session.run([optimizer, loss, train_prediction])\n",
    "        if (step % 100 == 0):\n",
    "            print('Loss at step %d: %f' % (step, l))\n",
    "            print('Training accuracy: %.1f%%' % accuracy(predictions, train_labels[:train_subset, :]))\n",
    "            print('Validation accuracy: %.1f%%' % accuracy(valid_prediction.eval(), valid_labels))\n",
    "    print('Test accuracy: %.1f%%' % accuracy(test_prediction.eval(), test_labels))"
   ]
  },
  {
   "cell_type": "code",
   "execution_count": 13,
   "metadata": {},
   "outputs": [],
   "source": [
    "batch_size = 128\n",
    "graph = tf.Graph()\n",
    "with graph.as_default():\n",
    "    tf_train_dataset = tf.placeholder(tf.float32, (batch_size, image_size*image_size))\n",
    "    tf_train_labels = tf.placeholder(tf.float32, (batch_size, num_labels))\n",
    "    tf_valid_dataset = tf.constant(valid_dataset)\n",
    "    tf_test_dataset = tf.constant(test_dataset)\n",
    "    weights = tf.Variable(tf.truncated_normal([image_size * image_size, num_labels]))\n",
    "    biases = tf.Variable(tf.zeros([num_labels]))\n",
    "    logits = tf.matmul(tf_train_dataset, weights) + biases\n",
    "    loss = tf.reduce_mean(tf.nn.softmax_cross_entropy_with_logits(labels=tf_train_labels, logits=logits))\n",
    "    optimizer = tf.train.GradientDescentOptimizer(0.5).minimize(loss)\n",
    "    train_prediction = tf.nn.softmax(logits)\n",
    "    valid_prediction = tf.nn.softmax(tf.matmul(tf_valid_dataset, weights) + biases)\n",
    "    test_prediction = tf.nn.softmax(tf.matmul(tf_test_dataset, weights) + biases)"
   ]
  },
  {
   "cell_type": "code",
   "execution_count": 14,
   "metadata": {},
   "outputs": [
    {
     "name": "stdout",
     "output_type": "stream",
     "text": [
      "Initialized\n",
      "Loss at step 0: 19.106249\n",
      "Minibatch accuracy: 7.0%\n",
      "Validation accuracy: 9.5%\n",
      "Loss at step 500: 1.543135\n",
      "Minibatch accuracy: 72.7%\n",
      "Validation accuracy: 76.3%\n",
      "Loss at step 1000: 1.686170\n",
      "Minibatch accuracy: 72.7%\n",
      "Validation accuracy: 76.8%\n",
      "Loss at step 1500: 1.379344\n",
      "Minibatch accuracy: 79.7%\n",
      "Validation accuracy: 77.9%\n",
      "Loss at step 2000: 1.310466\n",
      "Minibatch accuracy: 78.1%\n",
      "Validation accuracy: 78.2%\n",
      "Loss at step 2500: 1.270024\n",
      "Minibatch accuracy: 70.3%\n",
      "Validation accuracy: 79.0%\n",
      "Loss at step 3000: 1.019339\n",
      "Minibatch accuracy: 76.6%\n",
      "Validation accuracy: 79.7%\n",
      "Loss at step 3500: 0.951776\n",
      "Minibatch accuracy: 82.0%\n",
      "Validation accuracy: 79.9%\n",
      "Loss at step 4000: 0.916080\n",
      "Minibatch accuracy: 79.7%\n",
      "Validation accuracy: 79.9%\n",
      "Loss at step 4500: 0.990451\n",
      "Minibatch accuracy: 75.0%\n",
      "Validation accuracy: 79.9%\n",
      "Loss at step 5000: 0.902164\n",
      "Minibatch accuracy: 78.1%\n",
      "Validation accuracy: 79.7%\n",
      "Loss at step 5500: 0.454673\n",
      "Minibatch accuracy: 86.7%\n",
      "Validation accuracy: 80.4%\n",
      "Loss at step 6000: 0.727835\n",
      "Minibatch accuracy: 78.1%\n",
      "Validation accuracy: 80.4%\n",
      "Test accuracy: 86.7%\n"
     ]
    }
   ],
   "source": [
    "num_steps = 6001\n",
    "\n",
    "def accuracy(predictions, labels):\n",
    "  return (100.0 * np.sum(np.argmax(predictions, 1) == np.argmax(labels, 1))\n",
    "          / predictions.shape[0])\n",
    "\n",
    "with tf.Session(graph=graph) as session:\n",
    "    tf.global_variables_initializer().run()\n",
    "    print(\"Initialized\")\n",
    "    offset = 0\n",
    "    for step in range(num_steps):\n",
    "        offset = (step*batch_size)%(train_labels.shape[0] - batch_size)\n",
    "        batch_dataset = train_dataset[offset:offset+batch_size,:]\n",
    "        batch_labels = train_labels[offset:offset+batch_size,:]\n",
    "        feed_dict = {tf_train_dataset : batch_dataset, tf_train_labels : batch_labels}\n",
    "        _,l,predictions = session.run([optimizer,loss, train_prediction], feed_dict = feed_dict)\n",
    "        if step%500 == 0:\n",
    "            print('Loss at step %d: %f' % (step, l))\n",
    "            print('Minibatch accuracy: %.1f%%' % accuracy(predictions, batch_labels))\n",
    "            print('Validation accuracy: %.1f%%' % accuracy(valid_prediction.eval(), valid_labels))\n",
    "    print('Test accuracy: %.1f%%' % accuracy(test_prediction.eval(), test_labels))"
   ]
  },
  {
   "cell_type": "code",
   "execution_count": 15,
   "metadata": {},
   "outputs": [],
   "source": [
    "def create_hl(ip_node, op_node):\n",
    "    weight = tf.Variable(tf.truncated_normal([ip_node,op_node]))\n",
    "    biases = tf.Variable(tf.zeros([op_node]))\n",
    "    layer = {'weights': weight, 'biases': biases}\n",
    "    return layer\n",
    "\n",
    "batch_size = 128\n",
    "hl1_node = 1024\n",
    "graph = tf.Graph()\n",
    "with graph.as_default():\n",
    "    tf_train_dataset = tf.placeholder(tf.float32, (batch_size, image_size*image_size))\n",
    "    tf_train_labels = tf.placeholder(tf.float32, (batch_size, num_labels))\n",
    "    tf_valid_dataset = tf.constant(valid_dataset)\n",
    "    tf_test_dataset = tf.constant(test_dataset)\n",
    "\n",
    "    l1 = create_hl(image_size*image_size,hl1_node)\n",
    "    hl1 = create_hl(hl1_node,num_labels)\n",
    "    \n",
    "    hlin_logits = tf.nn.relu(tf.matmul(tf_train_dataset, l1['weights']) + l1['biases'])\n",
    "    hlout_logits = tf.matmul(hlin_logits, hl1['weights']) + hl1['biases']\n",
    "    \n",
    "    loss = tf.reduce_mean(tf.nn.softmax_cross_entropy_with_logits(labels=tf_train_labels, logits=hlout_logits))\n",
    "    optimizer = tf.train.GradientDescentOptimizer(0.5).minimize(loss)\n",
    "    train_prediction = tf.nn.softmax(hlout_logits)\n",
    "\n",
    "    valid_prediction = tf.nn.softmax(tf.matmul(tf.nn.relu(tf.matmul(tf_valid_dataset, l1['weights']) + l1['biases']), \n",
    "                                               hl1['weights']) + hl1['biases'])\n",
    "    test_prediction = tf.nn.softmax(tf.matmul(tf.nn.relu(tf.matmul(tf_test_dataset, l1['weights']) + l1['biases']), \n",
    "                                              hl1['weights']) + hl1['biases'])"
   ]
  },
  {
   "cell_type": "code",
   "execution_count": 16,
   "metadata": {},
   "outputs": [
    {
     "name": "stdout",
     "output_type": "stream",
     "text": [
      "Initialized\n",
      "Loss at step 0: 259.781952\n",
      "Minibatch accuracy: 18.8%\n",
      "Validation accuracy: 29.7%\n",
      "Loss at step 500: 12.677946\n",
      "Minibatch accuracy: 78.9%\n",
      "Validation accuracy: 80.9%\n",
      "Loss at step 1000: 16.398695\n",
      "Minibatch accuracy: 75.8%\n",
      "Validation accuracy: 80.8%\n",
      "Loss at step 1500: 8.203747\n",
      "Minibatch accuracy: 77.3%\n",
      "Validation accuracy: 81.8%\n",
      "Loss at step 2000: 14.037598\n",
      "Minibatch accuracy: 74.2%\n",
      "Validation accuracy: 79.3%\n",
      "Loss at step 2500: 5.395738\n",
      "Minibatch accuracy: 77.3%\n",
      "Validation accuracy: 81.9%\n",
      "Loss at step 3000: 4.396937\n",
      "Minibatch accuracy: 78.9%\n",
      "Validation accuracy: 81.7%\n",
      "Loss at step 3500: 3.429407\n",
      "Minibatch accuracy: 85.9%\n",
      "Validation accuracy: 83.0%\n",
      "Loss at step 4000: 5.908369\n",
      "Minibatch accuracy: 83.6%\n",
      "Validation accuracy: 82.3%\n",
      "Loss at step 4500: 5.183830\n",
      "Minibatch accuracy: 85.2%\n",
      "Validation accuracy: 82.6%\n",
      "Loss at step 5000: 5.667267\n",
      "Minibatch accuracy: 84.4%\n",
      "Validation accuracy: 83.2%\n",
      "Loss at step 5500: 4.217988\n",
      "Minibatch accuracy: 86.7%\n",
      "Validation accuracy: 83.0%\n",
      "Loss at step 6000: 1.353608\n",
      "Minibatch accuracy: 87.5%\n",
      "Validation accuracy: 83.5%\n",
      "Test accuracy: 90.0%\n"
     ]
    }
   ],
   "source": [
    "num_steps = 6001\n",
    "\n",
    "def accuracy(predictions, labels):\n",
    "  return (100.0 * np.sum(np.argmax(predictions, 1) == np.argmax(labels, 1))\n",
    "          / predictions.shape[0])\n",
    "\n",
    "with tf.Session(graph=graph) as session:\n",
    "    tf.global_variables_initializer().run()\n",
    "    print(\"Initialized\")\n",
    "    offset = 0\n",
    "    for step in range(num_steps):\n",
    "        offset = (step*batch_size)%(train_labels.shape[0] - batch_size)\n",
    "        batch_dataset = train_dataset[offset:offset+batch_size,:]\n",
    "        batch_labels = train_labels[offset:offset+batch_size,:]\n",
    "        feed_dict = {tf_train_dataset : batch_dataset, tf_train_labels : batch_labels}\n",
    "        _,l,predictions = session.run([optimizer,loss, train_prediction], feed_dict = feed_dict)\n",
    "        if step%500 == 0:\n",
    "            print('Loss at step %d: %f' % (step, l))\n",
    "            print('Minibatch accuracy: %.1f%%' % accuracy(predictions, batch_labels))\n",
    "            print('Validation accuracy: %.1f%%' % accuracy(valid_prediction.eval(), valid_labels))\n",
    "    print('Test accuracy: %.1f%%' % accuracy(test_prediction.eval(), test_labels))"
   ]
  },
  {
   "cell_type": "code",
   "execution_count": null,
   "metadata": {
    "collapsed": true
   },
   "outputs": [],
   "source": []
  }
 ],
 "metadata": {
  "kernelspec": {
   "display_name": "Python 3",
   "language": "python",
   "name": "python3"
  },
  "language_info": {
   "codemirror_mode": {
    "name": "ipython",
    "version": 3
   },
   "file_extension": ".py",
   "mimetype": "text/x-python",
   "name": "python",
   "nbconvert_exporter": "python",
   "pygments_lexer": "ipython3",
   "version": "3.6.3"
  }
 },
 "nbformat": 4,
 "nbformat_minor": 2
}
